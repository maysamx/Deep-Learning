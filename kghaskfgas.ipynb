{
 "cells": [
  {
   "cell_type": "code",
   "execution_count": 1,
   "metadata": {},
   "outputs": [
    {
     "ename": "ModuleNotFoundError",
     "evalue": "No module named 'pandas'",
     "output_type": "error",
     "traceback": [
      "\u001b[1;31m---------------------------------------------------------------------------\u001b[0m",
      "\u001b[1;31mModuleNotFoundError\u001b[0m                       Traceback (most recent call last)",
      "Cell \u001b[1;32mIn[1], line 6\u001b[0m\n\u001b[0;32m      1\u001b[0m \u001b[39m#rnn deeplearning model with 7 factor to compare\u001b[39;00m\n\u001b[0;32m      2\u001b[0m \n\u001b[0;32m      3\u001b[0m \n\u001b[0;32m      4\u001b[0m \u001b[39m##stochastic rsi 0 to 100\u001b[39;00m\n\u001b[0;32m      5\u001b[0m \u001b[39mimport\u001b[39;00m \u001b[39mos\u001b[39;00m\n\u001b[1;32m----> 6\u001b[0m \u001b[39mimport\u001b[39;00m \u001b[39mpandas\u001b[39;00m \u001b[39mas\u001b[39;00m \u001b[39mpd\u001b[39;00m\n\u001b[0;32m      9\u001b[0m \u001b[39m# Load daily price data into a DataFrame\u001b[39;00m\n\u001b[0;32m     10\u001b[0m df \u001b[39m=\u001b[39m pd\u001b[39m.\u001b[39mread_csv(\u001b[39m'\u001b[39m\u001b[39mGemini_BTCUSD_d.csv\u001b[39m\u001b[39m'\u001b[39m)\n",
      "\u001b[1;31mModuleNotFoundError\u001b[0m: No module named 'pandas'"
     ]
    }
   ],
   "source": [
    "#rnn deeplearning model with 7 factor to compare\n",
    "\n",
    "\n",
    "##stochastic rsi 0 to 100\n",
    "import os\n",
    "import pandas as pd\n",
    "\n",
    "\n",
    "# Load daily price data into a DataFrame\n",
    "df = pd.read_csv('Gemini_BTCUSD_d.csv')\n",
    "\n",
    "#good approach since it captures the volatility of the market more directly and can help avoid issues with differences in price scales across different time periods.\n",
    "df['price_change'] = (df['close'] - df['close'].shift(1)) / df['close'].shift(1)\n",
    "\n",
    "\n",
    "print(df.shape)\n",
    "\n",
    "# Calculate RSI values over 14 days\n",
    "n = 14\n",
    "delta = df['close'].diff()\n",
    "gain = delta.where(delta > 0, 0)\n",
    "loss = -delta.where(delta < 0, 0)\n",
    "avg_gain = gain.rolling(n).mean()\n",
    "avg_loss = loss.rolling(n).mean()\n",
    "rs = avg_gain / avg_loss\n",
    "rsi = 100 - (100 / (1 + rs))\n",
    "\n",
    "# Calculate high-low range over 14 days\n",
    "high = df['high'].rolling(n).max()\n",
    "low = df['low'].rolling(n).min()\n",
    "r = high - low\n",
    "\n",
    "# Calculate stochastic oscillator values over 14 days\n",
    "current_close = df['close']\n",
    "stochastic = (current_close - low) / r * 100\n",
    "\n",
    "# Calculate Stochastic RSI values over 14 days\n",
    "k = 14\n",
    "stochastic_rsi = stochastic.rolling(k).mean()\n",
    "\n",
    "\n",
    "# Print Stochastic RSI values\n",
    "print(stochastic_rsi)\n"
   ]
  }
 ],
 "metadata": {
  "kernelspec": {
   "display_name": "myenv",
   "language": "python",
   "name": "myenv"
  },
  "language_info": {
   "codemirror_mode": {
    "name": "ipython",
    "version": 3
   },
   "file_extension": ".py",
   "mimetype": "text/x-python",
   "name": "python",
   "nbconvert_exporter": "python",
   "pygments_lexer": "ipython3",
   "version": "3.10.11"
  },
  "orig_nbformat": 4
 },
 "nbformat": 4,
 "nbformat_minor": 2
}
